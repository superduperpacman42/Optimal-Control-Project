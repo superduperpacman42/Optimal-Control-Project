{
 "cells": [
  {
   "cell_type": "code",
   "execution_count": 59,
   "id": "6ff3007e",
   "metadata": {
    "scrolled": true
   },
   "outputs": [
    {
     "name": "stderr",
     "output_type": "stream",
     "text": [
      "\u001b[32m\u001b[1m  Activating\u001b[22m\u001b[39m environment at `~/Desktop/16745_OCRL/Project/Optimal-Control-Project/Project.toml`\n",
      "\u001b[32m\u001b[1mPrecompiling\u001b[22m\u001b[39m project...\n",
      "\u001b[32m  ✓ \u001b[39m\u001b[90mWayland_protocols_jll\u001b[39m\n",
      "\u001b[33m  ✓ \u001b[39m\u001b[90mOpenSSL_jll\u001b[39m\n",
      "\u001b[32m  ✓ \u001b[39m\u001b[90mLERC_jll\u001b[39m\n",
      "\u001b[32m  ✓ \u001b[39m\u001b[90mxkbcommon_jll\u001b[39m\n",
      "\u001b[33m  ✓ \u001b[39m\u001b[90mChainRulesCore\u001b[39m\n",
      "\u001b[33m  ✓ \u001b[39m\u001b[90mArrayInterface\u001b[39m\n",
      "\u001b[32m  ✓ \u001b[39m\u001b[90mLibtiff_jll\u001b[39m\n",
      "\u001b[33m  ✓ \u001b[39m\u001b[90mFFMPEG_jll\u001b[39m\n",
      "\u001b[33m  ✓ \u001b[39m\u001b[90mStructArrays\u001b[39m\n",
      "\u001b[32m  ✓ \u001b[39m\u001b[90mQt5Base_jll\u001b[39m\n",
      "\u001b[33m  ✓ \u001b[39m\u001b[90mFFMPEG\u001b[39m\n",
      "\u001b[33m  ✓ \u001b[39m\u001b[90mChangesOfVariables\u001b[39m\n",
      "\u001b[33m  ✓ \u001b[39m\u001b[90mWebIO\u001b[39m\n",
      "\u001b[32m  ✓ \u001b[39m\u001b[90mGR_jll\u001b[39m\n",
      "\u001b[33m  ✓ \u001b[39m\u001b[90mFiniteDiff\u001b[39m\n",
      "\u001b[33m  ✓ \u001b[39m\u001b[90mLogExpFunctions\u001b[39m\n",
      "\u001b[33m  ✓ \u001b[39m\u001b[90mPlotUtils\u001b[39m\n",
      "\u001b[33m  ✓ \u001b[39m\u001b[90mJSExpr\u001b[39m\n",
      "\u001b[32m  ✓ \u001b[39mOSQP\n",
      "\u001b[33m  ✓ \u001b[39m\u001b[90mInterpolations\u001b[39m\n",
      "\u001b[33m  ✓ \u001b[39m\u001b[90mGR\u001b[39m\n",
      "\u001b[33m  ✓ \u001b[39m\u001b[90mStatsBase\u001b[39m\n",
      "\u001b[33m  ✓ \u001b[39mBlink\n",
      "\u001b[33m  ✓ \u001b[39m\u001b[90mRecipesPipeline\u001b[39m\n",
      "\u001b[33m  ✓ \u001b[39m\u001b[90mSpecialFunctions\u001b[39m\n",
      "\u001b[33m  ✓ \u001b[39m\u001b[90mDiffRules\u001b[39m\n",
      "\u001b[33m  ✓ \u001b[39mGeometryBasics\n",
      "\u001b[33m  ✓ \u001b[39m\u001b[90mPlotThemes\u001b[39m\n",
      "\u001b[33m  ✓ \u001b[39m\u001b[90mMeshIO\u001b[39m\n",
      "\u001b[33m  ✓ \u001b[39mForwardDiff\n",
      "\u001b[33m  ✓ \u001b[39mMeshCat\n",
      "\u001b[33m  ✓ \u001b[39m\u001b[90mSparseDiffTools\u001b[39m\n",
      "\u001b[33m  ✓ \u001b[39mRobotDynamics\n",
      "\u001b[33m  ✓ \u001b[39m\u001b[90mRobotZoo\u001b[39m\n",
      "\u001b[33m  ✓ \u001b[39m\u001b[90mTrajectoryOptimization\u001b[39m\n",
      "\u001b[33m  ✓ \u001b[39mTrajOptPlots\n",
      "\u001b[32m  ✓ \u001b[39mAltro\n",
      "\u001b[33m  ✓ \u001b[39mPlots\n",
      "  38 dependencies successfully precompiled in 38 seconds (164 already precompiled)\n",
      "  \u001b[33m30\u001b[39m dependencies precompiled but different versions are currently loaded. Restart julia to access the new versions\n"
     ]
    },
    {
     "data": {
      "text/plain": [
       "slerp (generic function with 1 method)"
      ]
     },
     "execution_count": 59,
     "metadata": {},
     "output_type": "execute_result"
    }
   ],
   "source": [
    "import Pkg; Pkg.activate(joinpath(@__DIR__,\"..\")); Pkg.instantiate()\n",
    "using LinearAlgebra\n",
    "using ForwardDiff\n",
    "using RobotZoo\n",
    "using RobotDynamics\n",
    "using Ipopt\n",
    "using MathOptInterface\n",
    "using TrajOptPlots\n",
    "const MOI = MathOptInterface\n",
    "using Random\n",
    "using Test\n",
    "using Plots\n",
    "include(\"quadratic_cost.jl\")\n",
    "include(\"walker.jl\")\n",
    "include(\"simple_quadruped.jl\")\n",
    "include(\"sparseblocks.jl\")\n",
    "include(\"utils.jl\")"
   ]
  },
  {
   "cell_type": "code",
   "execution_count": 51,
   "id": "bd8d2e46",
   "metadata": {},
   "outputs": [
    {
     "data": {
      "text/plain": [
       "(37, 12)"
      ]
     },
     "execution_count": 51,
     "metadata": {},
     "output_type": "execute_result"
    }
   ],
   "source": [
    "model = SimpleQuadruped()\n",
    "n,m = state_dim(model), control_dim(model)\n",
    "# mvis = initialize_visualizer(model)\n",
    "# render(mvis)"
   ]
  },
  {
   "cell_type": "markdown",
   "id": "976ab7c2",
   "metadata": {},
   "source": [
    "## Cost Fxn"
   ]
  },
  {
   "cell_type": "markdown",
   "id": "9cdab6ce",
   "metadata": {},
   "source": [
    "Stealing from HW4, quadractic_cost.jl"
   ]
  },
  {
   "cell_type": "markdown",
   "id": "a4b7051a",
   "metadata": {},
   "source": [
    "$$ \\begin{bmatrix}\n",
    "c_\\text{init} \\\\\n",
    "c_\\text{goal} \\\\\n",
    "c_\\text{dynamics} \\\\\n",
    "c_\\text{stance} \\\\\n",
    "c_\\text{length} \\\\\n",
    "\\end{bmatrix}$$\n",
    "which are of length $n$, $n$, $(N-1)n$, $N$, and $2N$, respectively. The dynamics, stance, and length constraints should be ordered by time step."
   ]
  },
  {
   "cell_type": "code",
   "execution_count": 50,
   "id": "b3753423",
   "metadata": {},
   "outputs": [],
   "source": [
    "\"\"\"\n",
    "    HybridNLP{n,m,L,Q}\n",
    "\n",
    "Represents a (N)on(L)inear (P)rogram of a trajectory optimization problem,\n",
    "with a dynamics model of type `L`, a quadratic cost function, horizon `T`, \n",
    "and initial and final state `x0`, `xf`.\n",
    "\n",
    "The kth state and control can be extracted from the concatenated state vector `Z` using\n",
    "`Z[nlp.xinds[k]]`, and `Z[nlp.uinds[k]]`.\n",
    "\n",
    "# Constructor\n",
    "    HybridNLP(model, obj, tf, N, M, x0, xf, [integration])\n",
    "\n",
    "# Basic Methods\n",
    "    Base.size(nlp)    # returns (n,m,T)\n",
    "    num_ineq(nlp)     # number of inequality constraints\n",
    "    num_eq(nlp)       # number of equality constraints\n",
    "    num_primals(nlp)  # number of primal variables\n",
    "    num_duals(nlp)    # total number of dual variables\n",
    "    packZ(nlp, X, U)  # Stacks state `X` and controls `U` into one vector `Z`\n",
    "\n",
    "# Evaluating the NLP\n",
    "The NLP supports the following API for evaluating various pieces of the NLP:\n",
    "\n",
    "    eval_f(nlp, Z)         # evaluate the objective\n",
    "    grad_f!(nlp, grad, Z)  # gradient of the objective\n",
    "    eval_c!(nlp, c, Z)     # evaluate the constraints\n",
    "    jac_c!(nlp, c, Z)      # constraint Jacobian\n",
    "\"\"\"\n",
    "struct HybridNLP{n,m,L,Q} <: MOI.AbstractNLPEvaluator\n",
    "    model::L                                 # dynamics model\n",
    "    obj::Vector{QuadraticCost{n,m,Float64}}  # objective function\n",
    "    N::Int                                   # number of knot points\n",
    "    M::Int                                   # number of steps in each mode\n",
    "    Nmodes::Int                              # number of modes\n",
    "    tf::Float64                              # total time (sec)\n",
    "    x0::MVector{n,Float64}                   # initial condition\n",
    "    xf::MVector{n,Float64}                   # final condition\n",
    "    times::Vector{Float64}                   # vector of times\n",
    "    modes::Vector{Int}                       # mode ID\n",
    "    xinds::Vector{SVector{n,Int}}            # Z[xinds[k]] gives states for time step k\n",
    "    uinds::Vector{SVector{m,Int}}            # Z[uinds[k]] gives controls for time step k\n",
    "    cinds::Vector{UnitRange{Int}}            # indices for each of the constraints\n",
    "    lb::Vector{Float64}                      # lower bounds on the constraints\n",
    "    ub::Vector{Float64}                      # upper bounds on the constraints\n",
    "    zL::Vector{Float64}                      # lower bounds on the primal variables\n",
    "    zU::Vector{Float64}                      # upper bounds on the primal variables\n",
    "    rows::Vector{Int}                        # rows for Jacobian sparsity\n",
    "    cols::Vector{Int}                        # columns for Jacobian sparsity\n",
    "    use_sparse_jacobian::Bool\n",
    "    blocks::BlockViews\n",
    "    function HybridNLP(model, obj::Vector{<:QuadraticCost{n,m}},\n",
    "            tf::Real, N::Integer, M::Integer, x0::AbstractVector, xf::AbstractVector, \n",
    "            integration::Type{<:QuadratureRule}=RK4; use_sparse_jacobian::Bool=false\n",
    "        ) where {n,m}\n",
    "        # Create indices\n",
    "        xinds = [SVector{n}((k-1)*(n+m) .+ (1:n)) for k = 1:N]\n",
    "        uinds = [SVector{m}((k-1)*(n+m) .+ (n+1:n+m)) for k = 1:N-1]\n",
    "        times = collect(range(0, tf, length=N))\n",
    "        \n",
    "        # Specify the mode sequence\n",
    "        \n",
    "        # NOTE: MODIFY THIS MODE SEQUENCE ####################\n",
    "        modes = map(1:N) do k\n",
    "            isodd((k-1) ÷ M + 1) ? 1 : 2\n",
    "        end\n",
    "        Nmodes = Int(ceil(N/M))\n",
    "        # ####################################################\n",
    "        \n",
    "        # specify the constraint indices\n",
    "        c_init_inds = 1:n                                                  # initial constraint\n",
    "        c_term_inds = (c_init_inds[end]+1):(c_init_inds[end]+n)            # terminal constraint\n",
    "        c_dyn_inds = (c_term_inds[end]+1):(c_term_inds[end]+n*(N-1))       # dynamics constraints\n",
    "        c_length_inds = (c_dyn_inds[end]+1):(c_dyn_inds[end]+(4*N))        # length bounds     (4 per time step)\n",
    "        c_height_inds = (c_length_inds[end]+1):(c_length_inds[end]+(4*N))  # stance foot height = ground, swing foot height > ground (4 per time step)\n",
    "        \n",
    "        m_nlp = c_length_inds.stop # total number of constraints\n",
    "        \n",
    "        \n",
    "        # TODO: specify the bounds on the constraints\n",
    "        #lb = fill(+Inf,m_nlp)                                                # lower bounds on the constraints\n",
    "        #ub = fill(-Inf,m_nlp)                                                # upper bounds on the constraints\n",
    "        \n",
    "        lb = zeros(m_nlp)\n",
    "        lb[c_length_inds] .= 0.5 # min length\n",
    "        \n",
    "        ub = zeros(m_nlp)\n",
    "        ub[c_length_inds] .= 1.5 # max length\n",
    "        \n",
    "\n",
    "        \n",
    "        # Other initialization\n",
    "        cinds = [c_init_inds, c_term_inds, c_dyn_inds, c_length_inds, c_height_inds]\n",
    "        n_nlp = n*N + (N-1)*m\n",
    "        zL = fill(-Inf, n_nlp)\n",
    "        zU = fill(+Inf, n_nlp)\n",
    "        rows = Int[]\n",
    "        cols = Int[]\n",
    "        blocks = BlockViews(m_nlp, n_nlp)\n",
    "        \n",
    "        new{n,m,typeof(model), integration}(\n",
    "            model, obj,\n",
    "            N, M, Nmodes, tf, x0, xf, times, modes,\n",
    "            xinds, uinds, cinds, lb, ub, zL, zU, rows, cols, use_sparse_jacobian, blocks\n",
    "        )\n",
    "    end\n",
    "end\n",
    "Base.size(nlp::HybridNLP{n,m}) where {n,m} = (n,m,nlp.N)\n",
    "num_primals(nlp::HybridNLP{n,m}) where {n,m} = n*nlp.N + m*(nlp.N-1)\n",
    "num_duals(nlp::HybridNLP) = nlp.cinds[end][end]\n",
    "\n",
    "\"\"\"\n",
    "    packZ(nlp, X, U)\n",
    "\n",
    "Take a vector state vectors `X` and controls `U` and stack them into a single vector Z.\n",
    "\"\"\"\n",
    "function packZ(nlp, X, U)\n",
    "    Z = zeros(num_primals(nlp))\n",
    "    for k = 1:nlp.N-1\n",
    "        Z[nlp.xinds[k]] = X[k]\n",
    "        Z[nlp.uinds[k]] = U[k]\n",
    "    end\n",
    "    Z[nlp.xinds[end]] = X[end]\n",
    "    return Z\n",
    "end\n",
    "\n",
    "\"\"\"\n",
    "    unpackZ(nlp, Z)\n",
    "\n",
    "Take a vector of all the states and controls and return a vector of state vectors `X` and\n",
    "controls `U`.\n",
    "\"\"\"\n",
    "function unpackZ(nlp, Z)\n",
    "    X = [Z[xi] for xi in nlp.xinds]\n",
    "    U = [Z[ui] for ui in nlp.uinds]\n",
    "    return X, U\n",
    "end\n",
    "\n",
    "function TrajOptPlots.visualize!(vis, nlp::HybridNLP, Z)\n",
    "    TrajOptPlots.visualize!(vis, nlp.model, nlp.tf, unpackZ(nlp, Z)[1])\n",
    "end"
   ]
  },
  {
   "cell_type": "code",
   "execution_count": null,
   "id": "e25ac0d2",
   "metadata": {},
   "outputs": [],
   "source": [
    "# includes the interface to Ipopt\n",
    "include(\"moi.jl\")"
   ]
  },
  {
   "cell_type": "code",
   "execution_count": 44,
   "id": "7b6179c2",
   "metadata": {},
   "outputs": [
    {
     "data": {
      "text/plain": [
       "grad_f!"
      ]
     },
     "execution_count": 44,
     "metadata": {},
     "output_type": "execute_result"
    }
   ],
   "source": [
    "\"\"\"\n",
    "    eval_f(nlp, Z)\n",
    "\n",
    "Evaluate the objective, returning a scalar.\n",
    "\"\"\"\n",
    "function eval_f(nlp::HybridNLP, Z)\n",
    "    J = 0.0\n",
    "    xi,ui = nlp.xinds, nlp.uinds\n",
    "    for k = 1:nlp.N-1\n",
    "        x,u = Z[xi[k]], Z[ui[k]]\n",
    "        J += stagecost(nlp.obj[k], x, u)\n",
    "    end\n",
    "    J += termcost(nlp.obj[end], Z[xi[end]])\n",
    "    return J\n",
    "end\n",
    "\n",
    "\"\"\"\n",
    "    grad_f!(nlp, grad, Z)\n",
    "\n",
    "Evaluate the gradient of the objective at `Z`, storing the result in `grad`.\n",
    "\"\"\"\n",
    "function grad_f!(nlp::HybridNLP{n,m}, grad, Z) where {n,m}\n",
    "    xi,ui = nlp.xinds, nlp.uinds\n",
    "    obj = nlp.obj\n",
    "    for k = 1:nlp.N-1\n",
    "        x,u = Z[xi[k]], Z[ui[k]]\n",
    "        grad[xi[k]] = obj[k].Q*x + obj[k].q\n",
    "        grad[ui[k]] = obj[k].R*u + obj[k].r\n",
    "    end\n",
    "    grad[xi[end]] = obj[end].Q*Z[xi[end]] + obj[end].q\n",
    "    return nothing\n",
    "end"
   ]
  },
  {
   "cell_type": "markdown",
   "id": "5b6dc204",
   "metadata": {},
   "source": [
    "## Reference Trajectory"
   ]
  },
  {
   "cell_type": "code",
   "execution_count": 53,
   "id": "ed469773",
   "metadata": {},
   "outputs": [
    {
     "data": {
      "text/plain": [
       "reference_trajectory (generic function with 2 methods)"
      ]
     },
     "execution_count": 53,
     "metadata": {},
     "output_type": "execute_result"
    }
   ],
   "source": [
    "function reference_trajectory(model::SimpleQuadruped, times;\n",
    "        xinit = 0.0,\n",
    "        xterm = 10.0*model,\n",
    "        height = 0.8, # MODIFY LATER based on leg lengths\n",
    "    )\n",
    "    \n",
    "    # Some useful variables\n",
    "    n,m = size(model)\n",
    "    tf = times[end]\n",
    "    N = length(times)\n",
    "    Δx = xterm - xinit\n",
    "    \n",
    "    mb,g = model.mb, model.g\n",
    "    body_width = 2*abs(model.s1[2]) # from FL shoulder y pos wrt COM\n",
    "    body_length = 2*abs(model.s1[1]) # from FL shoulder x pos wrt COM\n",
    "    \n",
    "    # initialization\n",
    "    xref = zeros(n,N)\n",
    "    uref = zeros(m,N)\n",
    "    \n",
    "    # linearly interpolate x-pos\n",
    "    # constant y-pos\n",
    "    # velocities by taking difference\n",
    "    \n",
    "    xs = range(xinit,xterm,length=N)\n",
    "    \n",
    "    dt = Δx / tf\n",
    "    \n",
    "    # do this smarter in the future\n",
    "    # to make a less boring trajectory\n",
    "    \n",
    "    for k = 1:N-1\n",
    "          \n",
    "        xref[1,k] = xs[k] # body x\n",
    "        xref[2,k] = 0 # body y\n",
    "        xref[3,k] = height # body z\n",
    "        \n",
    "        # no body rotation in reference\n",
    "        \n",
    "        # foot index: (1,2,3,4) = (FL,BL,FR,BR)\n",
    "        \n",
    "        # foot x pos\n",
    "        xref[8,k] = xs[k] + (body_length/2)\n",
    "        xref[11,k] = xs[k] - (body_length/2)\n",
    "        xref[14,k] = xs[k] + (body_length/2)\n",
    "        xref[17,k] = xs[k] - (body_length/2)\n",
    "        \n",
    "        # foot y pos\n",
    "        xref[9,k] = -body_width / 2\n",
    "        xref[12,k] = -body_width / 2\n",
    "        xref[15,k] = body_width / 2\n",
    "        xref[18,k] = body_width / 2\n",
    "        \n",
    "        # foot z pos\n",
    "        # keep at 0\n",
    "\n",
    "        xref[20,k] = (xs[k+1] - xs[k])/dt # body x vel\n",
    "        xref[26,k] = (xs[k+1] - xs[k])/dt # foot1 x vel\n",
    "        xref[29,k] = (xs[k+1] - xs[k])/dt # foot2 x vel\n",
    "        xref[32,k] = (xs[k+1] - xs[k])/dt # foot3 x vel\n",
    "        xref[35,k] = (xs[k+1] - xs[k])/dt # foot4 x vel\n",
    "    end\n",
    "    \n",
    "    # end state\n",
    "    # set terminal positions, all velocities should 0 out\n",
    "    \n",
    "    # foot x pos\n",
    "    xref[8,N] = xterm + (body_length/2)\n",
    "    xref[11,N] = xterm - (body_length/2)\n",
    "    xref[14,N] = xterm + (body_length/2)\n",
    "    xref[17,N] = xterm - (body_length/2)\n",
    "\n",
    "    # foot y pos\n",
    "    xref[9,N] = -body_width / 2\n",
    "    xref[12,N] = -body_width / 2\n",
    "    xref[15,N] = body_width / 2\n",
    "    xref[18,N] = body_width / 2\n",
    "    \n",
    "    \n",
    "    # reference trajectory\n",
    "    uref .= kron(ones(N)', [0.5*mb*g; 0.5*mb*g; 0.5*mb*g; 0.5*mb*g]) # 1/2mg for each foot\n",
    "    \n",
    "    # Convert to a trajectory\n",
    "    Xref = [SVector{n}(x) for x in eachcol(xref)]\n",
    "    Uref = [SVector{m}(u) for u in eachcol(uref)]\n",
    "    return Xref, Uref\n",
    "end"
   ]
  },
  {
   "cell_type": "code",
   "execution_count": 54,
   "id": "811ab704",
   "metadata": {},
   "outputs": [
    {
     "ename": "LoadError",
     "evalue": "type SimpleQuadruped has no field body_width",
     "output_type": "error",
     "traceback": [
      "type SimpleQuadruped has no field body_width",
      "",
      "Stacktrace:",
      " [1] getproperty(x::SimpleQuadruped, f::Symbol)",
      "   @ Base ./Base.jl:33",
      " [2] reference_trajectory(model::SimpleQuadruped, times::StepRangeLen{Float64, Base.TwicePrecision{Float64}, Base.TwicePrecision{Float64}}; xinit::Float64, xterm::Float64, height::Float64)",
      "   @ Main ./In[53]:15",
      " [3] reference_trajectory(model::SimpleQuadruped, times::StepRangeLen{Float64, Base.TwicePrecision{Float64}, Base.TwicePrecision{Float64}})",
      "   @ Main ./In[53]:8",
      " [4] top-level scope",
      "   @ In[54]:8",
      " [5] eval",
      "   @ ./boot.jl:360 [inlined]",
      " [6] include_string(mapexpr::typeof(REPL.softscope), mod::Module, code::String, filename::String)",
      "   @ Base ./loading.jl:1116"
     ]
    }
   ],
   "source": [
    "# Discretization\n",
    "tf = 4.4\n",
    "dt = 0.1\n",
    "N = Int(ceil(tf/dt)) + 1\n",
    "times = range(0,tf, length=N);\n",
    "\n",
    "# Reference Trajectory\n",
    "Xref,Uref = reference_trajectory(model, times)\n",
    "\n",
    "# ALL THE MODEL PARAMS ARE WRONG\n",
    "# so nothing will actually work rn"
   ]
  },
  {
   "cell_type": "code",
   "execution_count": 58,
   "id": "e5d7235a",
   "metadata": {},
   "outputs": [
    {
     "data": {
      "text/plain": [
       "2.0"
      ]
     },
     "execution_count": 58,
     "metadata": {},
     "output_type": "execute_result"
    }
   ],
   "source": [
    "body_length = 2*abs(model.s1[1])"
   ]
  },
  {
   "cell_type": "markdown",
   "id": "028a93f7",
   "metadata": {},
   "source": [
    "## Contact Sequence / Gait"
   ]
  },
  {
   "cell_type": "code",
   "execution_count": 29,
   "id": "0090d102",
   "metadata": {},
   "outputs": [
    {
     "data": {
      "text/plain": [
       "4×45 Matrix{Float64}:\n",
       " 1.0  1.0  1.0  1.0  0.0  0.0  0.0  0.0  …  0.0  1.0  1.0  1.0  1.0  1.0  0.0\n",
       " 0.0  0.0  0.0  0.0  1.0  1.0  1.0  1.0     1.0  0.0  0.0  0.0  0.0  0.0  1.0\n",
       " 0.0  0.0  0.0  0.0  1.0  1.0  1.0  1.0     1.0  0.0  0.0  0.0  0.0  0.0  1.0\n",
       " 1.0  1.0  1.0  1.0  0.0  0.0  0.0  0.0     0.0  1.0  1.0  1.0  1.0  1.0  0.0"
      ]
     },
     "execution_count": 29,
     "metadata": {},
     "output_type": "execute_result"
    }
   ],
   "source": [
    "# Discretization\n",
    "tf = 4.4\n",
    "dt = 0.1\n",
    "N = Int(ceil(tf/dt)) + 1\n",
    "times = range(0,tf, length=N);\n",
    "\n",
    "function contact_sequence_trot(times)\n",
    "    # 1 = stance, 0 = swing\n",
    "    # 4xN matrix encoding contact schedule\n",
    "    \n",
    "    # initialize\n",
    "    contact_schedule = zeros(4,length(times))\n",
    "\n",
    "    step_length = 5 # NOTE: check later, is this physically feasible w/ our dt\n",
    "\n",
    "    #hardcoded a trot\n",
    "    for k = 1:N\n",
    "        if k % (2*step_length) < step_length\n",
    "            contact_schedule[:,k] .= [1;0;0;1]\n",
    "        else\n",
    "            contact_schedule[:,k] .= [0;1;1;0]\n",
    "        end\n",
    "    end\n",
    "    return contact_schedule\n",
    "end\n",
    "\n",
    "contact_sched = contact_sequence_trot(times)"
   ]
  },
  {
   "cell_type": "code",
   "execution_count": null,
   "id": "425cb0a7",
   "metadata": {},
   "outputs": [],
   "source": []
  }
 ],
 "metadata": {
  "@webio": {
   "lastCommId": "0c52e302b1674ff8aaa082bac3f8545a",
   "lastKernelId": "7f353e32-290c-4d4d-9efb-9cafa68c70be"
  },
  "kernelspec": {
   "display_name": "Julia 1.6.5",
   "language": "julia",
   "name": "julia-1.6"
  },
  "language_info": {
   "file_extension": ".jl",
   "mimetype": "application/julia",
   "name": "julia",
   "version": "1.6.5"
  }
 },
 "nbformat": 4,
 "nbformat_minor": 5
}

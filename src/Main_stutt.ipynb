{
 "cells": [
  {
   "cell_type": "code",
   "execution_count": 60,
   "id": "6bee035e",
   "metadata": {
    "scrolled": true
   },
   "outputs": [
    {
     "name": "stderr",
     "output_type": "stream",
     "text": [
      "\u001b[32m\u001b[1m  Activating\u001b[22m\u001b[39m environment at `~/Desktop/16745_OCRL/Project/Optimal-Control-Project/Project.toml`\n",
      "\u001b[32m\u001b[1mPrecompiling\u001b[22m\u001b[39m project...\n",
      "\u001b[32m  ✓ \u001b[39m\u001b[90mWayland_protocols_jll\u001b[39m\n",
      "\u001b[33m  ✓ \u001b[39m\u001b[90mJSONSchema\u001b[39m\n",
      "\u001b[33m  ✓ \u001b[39m\u001b[90mOpenSSL_jll\u001b[39m\n",
      "\u001b[33m  ✓ \u001b[39m\u001b[90mExpat_jll\u001b[39m\n",
      "\u001b[32m  ✓ \u001b[39m\u001b[90mLERC_jll\u001b[39m\n",
      "\u001b[33m  ✓ \u001b[39m\u001b[90mChainRulesCore\u001b[39m\n",
      "\u001b[33m  ✓ \u001b[39m\u001b[90mArrayInterface\u001b[39m\n",
      "\u001b[32m  ✓ \u001b[39m\u001b[90mWayland_jll\u001b[39m\n",
      "\u001b[33m  ✓ \u001b[39m\u001b[90mFontconfig_jll\u001b[39m\n",
      "\u001b[32m  ✓ \u001b[39m\u001b[90mLibtiff_jll\u001b[39m\n",
      "\u001b[33m  ✓ \u001b[39m\u001b[90mStructArrays\u001b[39m\n",
      "\u001b[33m  ✓ \u001b[39m\u001b[90mChangesOfVariables\u001b[39m\n",
      "\u001b[32m  ✓ \u001b[39m\u001b[90mxkbcommon_jll\u001b[39m\n",
      "\u001b[33m  ✓ \u001b[39m\u001b[90mWebIO\u001b[39m\n",
      "\u001b[33m  ✓ \u001b[39m\u001b[90mCairo_jll\u001b[39m\n",
      "\u001b[33m  ✓ \u001b[39m\u001b[90mMUMPS_seq_jll\u001b[39m\n",
      "\u001b[32m  ✓ \u001b[39m\u001b[90mQt5Base_jll\u001b[39m\n",
      "\u001b[33m  ✓ \u001b[39m\u001b[90mHarfBuzz_jll\u001b[39m\n",
      "\u001b[33m  ✓ \u001b[39m\u001b[90mFiniteDiff\u001b[39m\n",
      "\u001b[33m  ✓ \u001b[39m\u001b[90mRecipesPipeline\u001b[39m\n",
      "\u001b[33m  ✓ \u001b[39m\u001b[90mLogExpFunctions\u001b[39m\n",
      "\u001b[33m  ✓ \u001b[39m\u001b[90mlibass_jll\u001b[39m\n",
      "\u001b[33m  ✓ \u001b[39m\u001b[90mInterpolations\u001b[39m\n",
      "\u001b[33m  ✓ \u001b[39m\u001b[90mCSSUtil\u001b[39m\n",
      "\u001b[33m  ✓ \u001b[39m\u001b[90mIpopt_jll\u001b[39m\n",
      "\u001b[33m  ✓ \u001b[39m\u001b[90mFFMPEG_jll\u001b[39m\n",
      "\u001b[33m  ✓ \u001b[39m\u001b[90mJSExpr\u001b[39m\n",
      "\u001b[33m  ✓ \u001b[39m\u001b[90mFFMPEG\u001b[39m\n",
      "\u001b[33m  ✓ \u001b[39m\u001b[90mPlotThemes\u001b[39m\n",
      "\u001b[33m  ✓ \u001b[39m\u001b[90mStatsBase\u001b[39m\n",
      "\u001b[32m  ✓ \u001b[39m\u001b[90mGR_jll\u001b[39m\n",
      "\u001b[33m  ✓ \u001b[39mBlink\n",
      "\u001b[33m  ✓ \u001b[39m\u001b[90mSpecialFunctions\u001b[39m\n",
      "\u001b[33m  ✓ \u001b[39m\u001b[90mKnockout\u001b[39m\n",
      "\u001b[33m  ✓ \u001b[39mGeometryBasics\n",
      "\u001b[33m  ✓ \u001b[39m\u001b[90mDiffRules\u001b[39m\n",
      "\u001b[33m  ✓ \u001b[39m\u001b[90mGR\u001b[39m\n",
      "\u001b[33m  ✓ \u001b[39m\u001b[90mMeshIO\u001b[39m\n",
      "\u001b[33m  ✓ \u001b[39m\u001b[90mInteractBase\u001b[39m\n",
      "\u001b[33m  ✓ \u001b[39mForwardDiff\n",
      "\u001b[33m  ✓ \u001b[39mMeshCat\n",
      "\u001b[33m  ✓ \u001b[39m\u001b[90mSparseDiffTools\u001b[39m\n",
      "\u001b[33m  ✓ \u001b[39m\u001b[90mMechanismGeometries\u001b[39m\n",
      "\u001b[33m  ✓ \u001b[39mRobotDynamics\n",
      "\u001b[33m  ✓ \u001b[39mMeshCatMechanisms\n",
      "\u001b[33m  ✓ \u001b[39m\u001b[90mRobotZoo\u001b[39m\n",
      "\u001b[33m  ✓ \u001b[39mMathOptInterface\n",
      "\u001b[33m  ✓ \u001b[39mPlots\n",
      "\u001b[33m  ✓ \u001b[39mIpopt\n",
      "\u001b[32m  ✓ \u001b[39mOSQP\n",
      "\u001b[33m  ✓ \u001b[39m\u001b[90mTrajectoryOptimization\u001b[39m\n",
      "\u001b[32m  ✓ \u001b[39mAltro\n",
      "\u001b[33m  ✓ \u001b[39mTrajOptPlots\n",
      "  53 dependencies successfully precompiled in 50 seconds (158 already precompiled)\n",
      "  \u001b[33m44\u001b[39m dependencies precompiled but different versions are currently loaded. Restart julia to access the new versions\n"
     ]
    },
    {
     "data": {
      "text/plain": [
       "solve"
      ]
     },
     "execution_count": 60,
     "metadata": {},
     "output_type": "execute_result"
    }
   ],
   "source": [
    "import Pkg; Pkg.activate(joinpath(@__DIR__,\"..\")); Pkg.instantiate()\n",
    "using LinearAlgebra\n",
    "using ForwardDiff\n",
    "using RobotZoo\n",
    "using RobotDynamics\n",
    "using Ipopt\n",
    "using MathOptInterface\n",
    "using TrajOptPlots\n",
    "const MOI = MathOptInterface\n",
    "using Random\n",
    "using Plots\n",
    "include(\"quadruped.jl\")\n",
    "include(\"quadratic_cost.jl\")\n",
    "include(\"moi.jl\")\n",
    "include(\"sparseblocks.jl\")"
   ]
  },
  {
   "cell_type": "code",
   "execution_count": null,
   "id": "13d4865a",
   "metadata": {},
   "outputs": [],
   "source": []
  },
  {
   "cell_type": "markdown",
   "id": "c8087fc3",
   "metadata": {},
   "source": [
    "## Dynamics Models"
   ]
  },
  {
   "cell_type": "code",
   "execution_count": 193,
   "id": "c97edcff",
   "metadata": {},
   "outputs": [
    {
     "name": "stderr",
     "output_type": "stream",
     "text": [
      "┌ Info: MeshCat server started. You can open the visualizer by visiting the following URL in your browser:\n",
      "│ http://127.0.0.1:8709\n",
      "└ @ MeshCat C:\\Users\\pnadan\\.julia\\packages\\MeshCat\\Ax8pH\\src\\visualizer.jl:73\n"
     ]
    }
   ],
   "source": [
    "include(\"simple_quadruped.jl\")\n",
    "full_model = UnitreeA1()\n",
    "n,m = state_dim(full_model), control_dim(full_model)\n",
    "mvis = initialize_visualizer(full_model);\n",
    "model = simplifyQuadruped(full_model)\n",
    "n,m = state_dim(model), control_dim(model);"
   ]
  },
  {
   "cell_type": "markdown",
   "id": "2f5622f7",
   "metadata": {},
   "source": [
    "## Reference Trajectory & Contact Sequence"
   ]
  },
  {
   "cell_type": "code",
   "execution_count": 76,
   "id": "67983579",
   "metadata": {},
   "outputs": [
    {
     "data": {
      "text/plain": [
       "4×45 Matrix{Float64}:\n",
       " 1.0  1.0  1.0  1.0  0.0  0.0  0.0  0.0  …  0.0  1.0  1.0  1.0  1.0  1.0  0.0\n",
       " 0.0  0.0  0.0  0.0  1.0  1.0  1.0  1.0     1.0  0.0  0.0  0.0  0.0  0.0  1.0\n",
       " 0.0  0.0  0.0  0.0  1.0  1.0  1.0  1.0     1.0  0.0  0.0  0.0  0.0  0.0  1.0\n",
       " 1.0  1.0  1.0  1.0  0.0  0.0  0.0  0.0     0.0  1.0  1.0  1.0  1.0  1.0  0.0"
      ]
     },
     "execution_count": 76,
     "metadata": {},
     "output_type": "execute_result"
    }
   ],
   "source": [
    "include(\"ref_trajectory.jl\")\n",
    "include(\"gait.jl\")\n",
    "\n",
    "# Discretization\n",
    "tf = 4.4\n",
    "dt = 0.1\n",
    "N = Int(ceil(tf/dt)) + 1\n",
    "times = range(0,tf, length=N);\n",
    "\n",
    "# Reference Trajectory\n",
    "Xref,Uref = reference_trajectory(model, times)\n",
    "\n",
    "# Contact Sequence\n",
    "contact_sched = contact_sequence_trot(times)"
   ]
  },
  {
   "cell_type": "markdown",
   "id": "de1dc42a",
   "metadata": {},
   "source": [
    "## Define NLP for IPOPT"
   ]
  },
  {
   "cell_type": "code",
   "execution_count": 84,
   "id": "dd7677d2",
   "metadata": {},
   "outputs": [],
   "source": [
    "include(\"nlp.jl\")\n",
    "include(\"nlp_cost.jl\")\n",
    "include(\"nlp_constraint.jl\")"
   ]
  },
  {
   "cell_type": "markdown",
   "id": "c82c2d9a",
   "metadata": {},
   "source": [
    "## Solve NLP"
   ]
  },
  {
   "cell_type": "code",
   "execution_count": null,
   "id": "b98494c2",
   "metadata": {},
   "outputs": [],
   "source": []
  },
  {
   "cell_type": "markdown",
   "id": "f9d7c99f",
   "metadata": {},
   "source": [
    "## Controller"
   ]
  },
  {
   "cell_type": "code",
   "execution_count": null,
   "id": "2f1a3c75",
   "metadata": {},
   "outputs": [],
   "source": []
  },
  {
   "cell_type": "markdown",
   "id": "74e83fe4",
   "metadata": {},
   "source": [
    "## Simulation"
   ]
  },
  {
   "cell_type": "code",
   "execution_count": 190,
   "id": "d5a99553",
   "metadata": {
    "scrolled": true
   },
   "outputs": [
    {
     "name": "stderr",
     "output_type": "stream",
     "text": [
      "\u001b[32m\u001b[1m   Resolving\u001b[22m\u001b[39m package versions...\n",
      "\u001b[32m\u001b[1m   Installed\u001b[22m\u001b[39m TimerOutputs ──── v0.5.17\n",
      "\u001b[32m\u001b[1m   Installed\u001b[22m\u001b[39m SparseDiffTools ─ v1.21.0\n",
      "\u001b[32m\u001b[1m    Updating\u001b[22m\u001b[39m `C:\\Users\\pnadan\\Documents\\GitHub\\Optimal-Control-Project\\Project.toml`\n",
      " \u001b[90m [6ad125db] \u001b[39m\u001b[92m+ MeshCatMechanisms v0.8.2\u001b[39m\n",
      "\u001b[32m\u001b[1m    Updating\u001b[22m\u001b[39m `C:\\Users\\pnadan\\Documents\\GitHub\\Optimal-Control-Project\\Manifest.toml`\n",
      " \u001b[90m [4fba245c] \u001b[39m\u001b[93m↑ ArrayInterface v4.0.4 ⇒ v5.0.7\u001b[39m\n",
      " \u001b[90m [70588ee8] \u001b[39m\u001b[92m+ CSSUtil v0.1.1\u001b[39m\n",
      " \u001b[90m [3da002f7] \u001b[39m\u001b[95m↓ ColorTypes v0.11.0 ⇒ v0.10.12\u001b[39m\n",
      " \u001b[90m [34da2185] \u001b[39m\u001b[93m↑ Compat v3.42.0 ⇒ v3.43.0\u001b[39m\n",
      " \u001b[90m [d3863d7c] \u001b[39m\u001b[92m+ InteractBase v0.10.8\u001b[39m\n",
      " \u001b[90m [a98d9a8b] \u001b[39m\u001b[93m↑ Interpolations v0.13.5 ⇒ v0.13.6\u001b[39m\n",
      " \u001b[90m [bcebb21b] \u001b[39m\u001b[92m+ Knockout v0.2.5\u001b[39m\n",
      " \u001b[90m [2ab3a3ac] \u001b[39m\u001b[93m↑ LogExpFunctions v0.3.10 ⇒ v0.3.12\u001b[39m\n",
      " \u001b[90m [931e9471] \u001b[39m\u001b[92m+ MechanismGeometries v0.7.1\u001b[39m\n",
      " \u001b[90m [6ad125db] \u001b[39m\u001b[92m+ MeshCatMechanisms v0.8.2\u001b[39m\n",
      " \u001b[90m [69de0a69] \u001b[39m\u001b[93m↑ Parsers v2.2.3 ⇒ v2.3.0\u001b[39m\n",
      " \u001b[90m [21216c6a] \u001b[39m\u001b[93m↑ Preferences v1.2.5 ⇒ v1.3.0\u001b[39m\n",
      " \u001b[90m [47a9eef4] \u001b[39m\u001b[93m↑ SparseDiffTools v1.20.2 ⇒ v1.21.0\u001b[39m\n",
      " \u001b[90m [aedffcd0] \u001b[39m\u001b[93m↑ Static v0.5.6 ⇒ v0.6.0\u001b[39m\n",
      " \u001b[90m [a759f4b9] \u001b[39m\u001b[93m↑ TimerOutputs v0.5.16 ⇒ v0.5.17\u001b[39m\n",
      " \u001b[90m [2e619515] \u001b[39m\u001b[93m↑ Expat_jll v2.4.4+0 ⇒ v2.4.8+0\u001b[39m\n",
      "\u001b[32m\u001b[1mPrecompiling\u001b[22m\u001b[39m project...\n",
      "\u001b[32m  ✓ \u001b[39m\u001b[90mWayland_protocols_jll\u001b[39m\n",
      "\u001b[32m  ✓ \u001b[39m\u001b[90mTimerOutputs\u001b[39m\n",
      "\u001b[33m  ✓ \u001b[39m\u001b[90mOpenSSL_jll\u001b[39m\n",
      "\u001b[33m  ✓ \u001b[39m\u001b[90mChainRulesCore\u001b[39m\n",
      "\u001b[32m  ✓ \u001b[39m\u001b[90mLERC_jll\u001b[39m\n",
      "\u001b[33m  ✓ \u001b[39m\u001b[90mExpat_jll\u001b[39m\n",
      "\u001b[33m  ✓ \u001b[39m\u001b[90mStructArrays\u001b[39m\n",
      "\u001b[33m  ✓ \u001b[39m\u001b[90mArrayInterface\u001b[39m\n",
      "\u001b[33m  ✓ \u001b[39m\u001b[90mChangesOfVariables\u001b[39m\n",
      "\u001b[33m  ✓ \u001b[39m\u001b[90mWebIO\u001b[39m\n",
      "\u001b[33m  ✓ \u001b[39m\u001b[90mFontconfig_jll\u001b[39m\n",
      "\u001b[33m  ✓ \u001b[39m\u001b[90mPlotUtils\u001b[39m\n",
      "\u001b[32m  ✓ \u001b[39m\u001b[90mWayland_jll\u001b[39m\n",
      "\u001b[32m  ✓ \u001b[39m\u001b[90mLibtiff_jll\u001b[39m\n",
      "\u001b[33m  ✓ \u001b[39m\u001b[90mInterpolations\u001b[39m\n",
      "\u001b[33m  ✓ \u001b[39m\u001b[90mFiniteDiff\u001b[39m\n",
      "\u001b[33m  ✓ \u001b[39m\u001b[90mLogExpFunctions\u001b[39m\n",
      "\u001b[33m  ✓ \u001b[39m\u001b[90mCSSUtil\u001b[39m\n",
      "\u001b[33m  ✓ \u001b[39m\u001b[90mCairo_jll\u001b[39m\n",
      "\u001b[33m  ✓ \u001b[39m\u001b[90mJSExpr\u001b[39m\n",
      "\u001b[32m  ✓ \u001b[39m\u001b[90mxkbcommon_jll\u001b[39m\n",
      "\u001b[33m  ✓ \u001b[39m\u001b[90mRecipesPipeline\u001b[39m\n",
      "\u001b[33m  ✓ \u001b[39mGeometryBasics\n",
      "\u001b[33m  ✓ \u001b[39m\u001b[90mStatsBase\u001b[39m\n",
      "\u001b[33m  ✓ \u001b[39m\u001b[90mHarfBuzz_jll\u001b[39m\n",
      "\u001b[33m  ✓ \u001b[39m\u001b[90mPlotThemes\u001b[39m\n",
      "\u001b[33m  ✓ \u001b[39m\u001b[90mKnockout\u001b[39m\n",
      "\u001b[33m  ✓ \u001b[39m\u001b[90mSpecialFunctions\u001b[39m\n",
      "\u001b[32m  ✓ \u001b[39mBlink\n",
      "\u001b[33m  ✓ \u001b[39m\u001b[90mlibass_jll\u001b[39m\n",
      "\u001b[33m  ✓ \u001b[39m\u001b[90mMeshIO\u001b[39m\n",
      "\u001b[33m  ✓ \u001b[39m\u001b[90mDiffRules\u001b[39m\n",
      "\u001b[32m  ✓ \u001b[39m\u001b[90mQt5Base_jll\u001b[39m\n",
      "\u001b[33m  ✓ \u001b[39m\u001b[90mFFMPEG_jll\u001b[39m\n",
      "\u001b[33m  ✓ \u001b[39m\u001b[90mFFMPEG\u001b[39m\n",
      "\u001b[33m  ✓ \u001b[39m\u001b[90mInteractBase\u001b[39m\n",
      "\u001b[32m  ✓ \u001b[39m\u001b[90mGR_jll\u001b[39m\n",
      "\u001b[33m  ✓ \u001b[39mForwardDiff\n",
      "\u001b[33m  ✓ \u001b[39m\u001b[90mMechanismGeometries\u001b[39m\n",
      "\u001b[33m  ✓ \u001b[39m\u001b[90mGR\u001b[39m\n",
      "\u001b[33m  ✓ \u001b[39mMeshCat\n",
      "\u001b[33m  ✓ \u001b[39mMeshCatMechanisms\n",
      "\u001b[33m  ✓ \u001b[39m\u001b[90mSparseDiffTools\u001b[39m\n",
      "\u001b[33m  ✓ \u001b[39mRobotDynamics\n",
      "\u001b[33m  ✓ \u001b[39m\u001b[90mRobotZoo\u001b[39m\n",
      "\u001b[32m  ✓ \u001b[39mOSQP\n",
      "\u001b[33m  ✓ \u001b[39mPlots\n",
      "\u001b[33m  ✓ \u001b[39m\u001b[90mTrajectoryOptimization\u001b[39m\n",
      "\u001b[32m  ✓ \u001b[39mAltro\n",
      "\u001b[33m  ✓ \u001b[39mTrajOptPlots\n",
      "  50 dependencies successfully precompiled in 120 seconds (161 already precompiled)\n",
      "  \u001b[33m39\u001b[39m dependencies precompiled but different versions are currently loaded. Restart julia to access the new versions\n"
     ]
    }
   ],
   "source": []
  },
  {
   "cell_type": "code",
   "execution_count": null,
   "id": "abff05eb",
   "metadata": {},
   "outputs": [],
   "source": []
  }
 ],
 "metadata": {
  "@webio": {
   "lastCommId": "0c52e302b1674ff8aaa082bac3f8545a",
   "lastKernelId": "7f353e32-290c-4d4d-9efb-9cafa68c70be"
  },
  "kernelspec": {
   "display_name": "Julia 1.6.5",
   "language": "julia",
   "name": "julia-1.6"
  },
  "language_info": {
   "file_extension": ".jl",
   "mimetype": "application/julia",
   "name": "julia",
   "version": "1.6.5"
  }
 },
 "nbformat": 4,
 "nbformat_minor": 5
}

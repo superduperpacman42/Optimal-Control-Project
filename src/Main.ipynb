{
 "cells": [
  {
   "cell_type": "code",
   "execution_count": 192,
   "metadata": {
    "scrolled": true
   },
   "outputs": [
    {
     "name": "stderr",
     "output_type": "stream",
     "text": [
      "\u001b[32m\u001b[1m  Activating\u001b[22m\u001b[39m environment at `C:\\Users\\pnadan\\Documents\\GitHub\\Optimal-Control-Project\\Project.toml`\n",
      "\u001b[32m\u001b[1mPrecompiling\u001b[22m\u001b[39m project...\n",
      "\u001b[32m  ✓ \u001b[39m\u001b[90mWayland_protocols_jll\u001b[39m\n",
      "\u001b[33m  ✓ \u001b[39m\u001b[90mOpenSSL_jll\u001b[39m\n",
      "\u001b[33m  ✓ \u001b[39m\u001b[90mBenchmarkTools\u001b[39m\n",
      "\u001b[33m  ✓ \u001b[39m\u001b[90mChainRulesCore\u001b[39m\n",
      "\u001b[32m  ✓ \u001b[39m\u001b[90mLERC_jll\u001b[39m\n",
      "\u001b[33m  ✓ \u001b[39m\u001b[90mExpat_jll\u001b[39m\n",
      "\u001b[33m  ✓ \u001b[39m\u001b[90mJSONSchema\u001b[39m\n",
      "\u001b[33m  ✓ \u001b[39m\u001b[90mStructArrays\u001b[39m\n",
      "\u001b[33m  ✓ \u001b[39m\u001b[90mArrayInterface\u001b[39m\n",
      "\u001b[33m  ✓ \u001b[39m\u001b[90mChangesOfVariables\u001b[39m\n",
      "\u001b[32m  ✓ \u001b[39m\u001b[90mLibtiff_jll\u001b[39m\n",
      "\u001b[33m  ✓ \u001b[39m\u001b[90mWebIO\u001b[39m\n",
      "\u001b[32m  ✓ \u001b[39m\u001b[90mWayland_jll\u001b[39m\n",
      "\u001b[33m  ✓ \u001b[39m\u001b[90mFontconfig_jll\u001b[39m\n",
      "\u001b[33m  ✓ \u001b[39m\u001b[90mRecipesPipeline\u001b[39m\n",
      "\u001b[33m  ✓ \u001b[39m\u001b[90mInterpolations\u001b[39m\n",
      "\u001b[33m  ✓ \u001b[39m\u001b[90mFiniteDiff\u001b[39m\n",
      "\u001b[33m  ✓ \u001b[39m\u001b[90mPlotThemes\u001b[39m\n",
      "\u001b[33m  ✓ \u001b[39m\u001b[90mLogExpFunctions\u001b[39m\n",
      "\u001b[32m  ✓ \u001b[39m\u001b[90mxkbcommon_jll\u001b[39m\n",
      "\u001b[33m  ✓ \u001b[39m\u001b[90mCSSUtil\u001b[39m\n",
      "\u001b[33m  ✓ \u001b[39m\u001b[90mCairo_jll\u001b[39m\n",
      "\u001b[33m  ✓ \u001b[39m\u001b[90mJSExpr\u001b[39m\n",
      "\u001b[32m  ✓ \u001b[39m\u001b[90mQt5Base_jll\u001b[39m\n",
      "\u001b[33m  ✓ \u001b[39m\u001b[90mStatsBase\u001b[39m\n",
      "\u001b[33m  ✓ \u001b[39mGeometryBasics\n",
      "\u001b[33m  ✓ \u001b[39m\u001b[90mHarfBuzz_jll\u001b[39m\n",
      "\u001b[33m  ✓ \u001b[39m\u001b[90mSpecialFunctions\u001b[39m\n",
      "\u001b[33m  ✓ \u001b[39m\u001b[90mKnockout\u001b[39m\n",
      "\u001b[33m  ✓ \u001b[39m\u001b[90mMeshIO\u001b[39m\n",
      "\u001b[32m  ✓ \u001b[39mBlink\n",
      "\u001b[33m  ✓ \u001b[39m\u001b[90mDiffRules\u001b[39m\n",
      "\u001b[33m  ✓ \u001b[39m\u001b[90mlibass_jll\u001b[39m\n",
      "\u001b[33m  ✓ \u001b[39m\u001b[90mFFMPEG_jll\u001b[39m\n",
      "\u001b[33m  ✓ \u001b[39m\u001b[90mMechanismGeometries\u001b[39m\n",
      "\u001b[33m  ✓ \u001b[39m\u001b[90mFFMPEG\u001b[39m\n",
      "\u001b[32m  ✓ \u001b[39m\u001b[90mGR_jll\u001b[39m\n",
      "\u001b[33m  ✓ \u001b[39m\u001b[90mInteractBase\u001b[39m\n",
      "\u001b[33m  ✓ \u001b[39mForwardDiff\n",
      "\u001b[33m  ✓ \u001b[39m\u001b[90mGR\u001b[39m\n",
      "\u001b[33m  ✓ \u001b[39m\u001b[90mSparseDiffTools\u001b[39m\n",
      "\u001b[33m  ✓ \u001b[39mMeshCat\n",
      "\u001b[33m  ✓ \u001b[39mRobotDynamics\n",
      "\u001b[33m  ✓ \u001b[39mMeshCatMechanisms\n",
      "\u001b[33m  ✓ \u001b[39m\u001b[90mRobotZoo\u001b[39m\n",
      "\u001b[33m  ✓ \u001b[39mMathOptInterface\n",
      "\u001b[32m  ✓ \u001b[39mOSQP\n",
      "\u001b[33m  ✓ \u001b[39m\u001b[90mTrajectoryOptimization\u001b[39m\n",
      "\u001b[33m  ✓ \u001b[39mIpopt\n",
      "\u001b[33m  ✓ \u001b[39mPlots\n",
      "\u001b[32m  ✓ \u001b[39mAltro\n",
      "\u001b[33m  ✓ \u001b[39mTrajOptPlots\n",
      "  52 dependencies successfully precompiled in 95 seconds (159 already precompiled)\n",
      "  \u001b[33m42\u001b[39m dependencies precompiled but different versions are currently loaded. Restart julia to access the new versions\n"
     ]
    },
    {
     "data": {
      "text/plain": [
       "solve"
      ]
     },
     "execution_count": 192,
     "metadata": {},
     "output_type": "execute_result"
    }
   ],
   "source": [
    "import Pkg; Pkg.activate(joinpath(@__DIR__,\"..\")); Pkg.instantiate()\n",
    "using LinearAlgebra\n",
    "using ForwardDiff\n",
    "using RobotZoo\n",
    "using RobotDynamics\n",
    "using Ipopt\n",
    "using MathOptInterface\n",
    "using TrajOptPlots\n",
    "const MOI = MathOptInterface\n",
    "using Random\n",
    "using Plots\n",
    "include(\"quadruped.jl\")\n",
    "include(\"quadratic_cost.jl\")\n",
    "include(\"moi.jl\")"
   ]
  },
  {
   "cell_type": "markdown",
   "metadata": {},
   "source": [
    "## Dynamics Models"
   ]
  },
  {
   "cell_type": "code",
   "execution_count": 195,
   "metadata": {},
   "outputs": [
    {
     "name": "stderr",
     "output_type": "stream",
     "text": [
      "┌ Info: MeshCat server started. You can open the visualizer by visiting the following URL in your browser:\n",
      "│ http://127.0.0.1:8710\n",
      "└ @ MeshCat C:\\Users\\pnadan\\.julia\\packages\\MeshCat\\Ax8pH\\src\\visualizer.jl:73\n"
     ]
    }
   ],
   "source": [
    "include(\"simple_quadruped.jl\")\n",
    "full_model = UnitreeA1()\n",
    "n,m = state_dim(full_model), control_dim(full_model)\n",
    "mvis = initialize_visualizer(full_model);\n",
    "model = simplifyQuadruped(full_model)\n",
    "n,m = state_dim(model), control_dim(model);"
   ]
  },
  {
   "cell_type": "markdown",
   "metadata": {},
   "source": [
    "## Reference Trajectory & Contact Sequence"
   ]
  },
  {
   "cell_type": "code",
   "execution_count": 196,
   "metadata": {},
   "outputs": [
    {
     "ename": "LoadError",
     "evalue": "MethodError: no method matching reference_trajectory(::SimpleQuadruped, ::StepRangeLen{Float64, Base.TwicePrecision{Float64}, Base.TwicePrecision{Float64}})\n\u001b[0mClosest candidates are:\n\u001b[0m  reference_trajectory(\u001b[91m::UnitreeA1\u001b[39m, ::Any; xinit, xterm, height) at C:\\Users\\pnadan\\Documents\\GitHub\\Optimal-Control-Project\\src\\ref_trajectory.jl:1",
     "output_type": "error",
     "traceback": [
      "MethodError: no method matching reference_trajectory(::SimpleQuadruped, ::StepRangeLen{Float64, Base.TwicePrecision{Float64}, Base.TwicePrecision{Float64}})\n\u001b[0mClosest candidates are:\n\u001b[0m  reference_trajectory(\u001b[91m::UnitreeA1\u001b[39m, ::Any; xinit, xterm, height) at C:\\Users\\pnadan\\Documents\\GitHub\\Optimal-Control-Project\\src\\ref_trajectory.jl:1",
      "",
      "Stacktrace:",
      " [1] top-level scope",
      "   @ In[196]:11",
      " [2] eval",
      "   @ .\\boot.jl:360 [inlined]",
      " [3] include_string(mapexpr::typeof(REPL.softscope), mod::Module, code::String, filename::String)",
      "   @ Base .\\loading.jl:1116"
     ]
    }
   ],
   "source": [
    "include(\"ref_trajectory.jl\")\n",
    "include(\"gait.jl\")\n",
    "\n",
    "# Discretization\n",
    "tf = 4.4\n",
    "dt = 0.1\n",
    "N = Int(ceil(tf/dt)) + 1\n",
    "times = range(0,tf, length=N);\n",
    "\n",
    "# Reference Trajectory\n",
    "Xref,Uref = reference_trajectory(model, times)\n",
    "\n",
    "# Contact Sequence\n",
    "contact_sched = contact_sequence_trot(times)"
   ]
  },
  {
   "cell_type": "markdown",
   "metadata": {},
   "source": [
    "## Define NLP for IPOPT"
   ]
  },
  {
   "cell_type": "code",
   "execution_count": 197,
   "metadata": {},
   "outputs": [
    {
     "ename": "LoadError",
     "evalue": "LoadError: UndefVarError: BlockViews not defined\nin expression starting at C:\\Users\\pnadan\\Documents\\GitHub\\Optimal-Control-Project\\src\\nlp.jl:1",
     "output_type": "error",
     "traceback": [
      "LoadError: UndefVarError: BlockViews not defined\nin expression starting at C:\\Users\\pnadan\\Documents\\GitHub\\Optimal-Control-Project\\src\\nlp.jl:1",
      "",
      "Stacktrace:",
      " [1] top-level scope",
      "   @ C:\\Users\\pnadan\\Documents\\GitHub\\Optimal-Control-Project\\src\\nlp.jl:1",
      " [2] include(fname::String)",
      "   @ Base.MainInclude .\\client.jl:444",
      " [3] top-level scope",
      "   @ In[197]:1",
      " [4] eval",
      "   @ .\\boot.jl:360 [inlined]",
      " [5] include_string(mapexpr::typeof(REPL.softscope), mod::Module, code::String, filename::String)",
      "   @ Base .\\loading.jl:1116"
     ]
    }
   ],
   "source": [
    "include(\"nlp.jl\")\n",
    "include(\"nlp_cost.jl\")\n",
    "include(\"nlp_constraint.jl\")"
   ]
  },
  {
   "cell_type": "markdown",
   "metadata": {},
   "source": [
    "## Solve NLP"
   ]
  },
  {
   "cell_type": "code",
   "execution_count": null,
   "metadata": {},
   "outputs": [],
   "source": []
  },
  {
   "cell_type": "markdown",
   "metadata": {},
   "source": [
    "## Controller"
   ]
  },
  {
   "cell_type": "code",
   "execution_count": null,
   "metadata": {},
   "outputs": [],
   "source": [
    "A = [zeros(n,n) for k = 1:N-1]\n",
    "B = [zeros(n,m) for k = 1:N-1]\n",
    "for k = 1:N-1\n",
    "    A[k], B[k] = discrete_jacobian(model, Xref[k], Uref[k], times[k], times[k+1]-times[k])\n",
    "end\n",
    "K, P = tvlqr(A,B,Q,R,Qf);\n"
   ]
  },
  {
   "cell_type": "markdown",
   "metadata": {},
   "source": [
    "## Simulation"
   ]
  },
  {
   "cell_type": "code",
   "execution_count": null,
   "metadata": {},
   "outputs": [],
   "source": []
  },
  {
   "cell_type": "code",
   "execution_count": null,
   "metadata": {},
   "outputs": [],
   "source": []
  }
 ],
 "metadata": {
  "@webio": {
   "lastCommId": "de62cde1deaf424f8e02d98e3a45aefd",
   "lastKernelId": "85894ffa-5bfd-4d91-8efb-a80db5020ed6"
  },
  "kernelspec": {
   "display_name": "Julia 1.6.5",
   "language": "julia",
   "name": "julia-1.6"
  },
  "language_info": {
   "file_extension": ".jl",
   "mimetype": "application/julia",
   "name": "julia",
   "version": "1.6.5"
  }
 },
 "nbformat": 4,
 "nbformat_minor": 4
}

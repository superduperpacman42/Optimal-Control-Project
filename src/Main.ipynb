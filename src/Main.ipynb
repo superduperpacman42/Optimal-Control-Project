{
 "cells": [
  {
   "cell_type": "code",
   "execution_count": 175,
   "metadata": {
    "scrolled": true
   },
   "outputs": [
    {
     "name": "stderr",
     "output_type": "stream",
     "text": [
      "\u001b[32m\u001b[1m  Activating\u001b[22m\u001b[39m environment at `C:\\Users\\pnadan\\Documents\\GitHub\\Optimal-Control-Project\\Project.toml`\n"
     ]
    },
    {
     "data": {
      "text/plain": [
       "newton_solve"
      ]
     },
     "execution_count": 175,
     "metadata": {},
     "output_type": "execute_result"
    }
   ],
   "source": [
    "import Pkg; Pkg.activate(joinpath(@__DIR__,\"..\")); Pkg.instantiate()\n",
    "using Plots\n",
    "include(\"quadruped.jl\")"
   ]
  },
  {
   "cell_type": "markdown",
   "metadata": {},
   "source": [
    "## Load Full Model"
   ]
  },
  {
   "cell_type": "code",
   "execution_count": 174,
   "metadata": {},
   "outputs": [
    {
     "name": "stderr",
     "output_type": "stream",
     "text": [
      "┌ Info: MeshCat server started. You can open the visualizer by visiting the following URL in your browser:\n",
      "│ http://127.0.0.1:8707\n",
      "└ @ MeshCat C:\\Users\\pnadan\\.julia\\packages\\MeshCat\\Ax8pH\\src\\visualizer.jl:73\n"
     ]
    }
   ],
   "source": [
    "full_model = UnitreeA1()\n",
    "n,m = state_dim(full_model), control_dim(full_model)\n",
    "mvis = initialize_visualizer(full_model);"
   ]
  },
  {
   "cell_type": "markdown",
   "metadata": {},
   "source": [
    "## Load Simplified Model"
   ]
  },
  {
   "cell_type": "code",
   "execution_count": 171,
   "metadata": {},
   "outputs": [],
   "source": [
    "mf = RigidBodyDynamics.spatial_inertia(findbody(full_model.mech, \"RR_foot\")).mass\n",
    "mb = RigidBodyDynamics.spatial_inertia(findbody(full_model.mech, \"trunk\")).mass + \n",
    "     RigidBodyDynamics.spatial_inertia(findbody(full_model.mech, \"RR_hip\")).mass*4 +\n",
    "     RigidBodyDynamics.spatial_inertia(findbody(full_model.mech, \"RR_thigh\")).mass*4 +\n",
    "     RigidBodyDynamics.spatial_inertia(findbody(full_model.mech, \"RR_calf\")).mass*4\n",
    "J = RigidBodyDynamics.spatial_inertia(findbody(full_model.mech, \"trunk\")).moment\n",
    "state = MechanismState(full_model.mech)\n",
    "zero!(state)\n",
    "leg = translation(relative_transform(state, \n",
    "      default_frame(findbody(full_model.mech, \"RR_hip\")),\n",
    "      default_frame(findbody(full_model.mech, \"RR_foot\"))))\n",
    "s1 = translation(relative_transform(state, \n",
    "     default_frame(findbody(full_model.mech, \"trunk\")),\n",
    "     default_frame(findbody(full_model.mech, \"RR_hip\"))))\n",
    "s1 = vcat(-s1[2], s1[1], s1[3])\n",
    "s2 = s1.*[1,-1,1]\n",
    "s3 = s1.*[-1,1,1]\n",
    "s4 = s1.*[-1,-1,1]\n",
    "\n",
    "include(\"simple_quadruped.jl\")\n",
    "model = SimpleQuadruped(mf=mf, mb=mb, Jx=J[1,1], Jy=J[2,2], Jz=J[3,3], ℓmax=leg[3], s1=s1, s2=s2, s3=s3, s4=s4)\n",
    "n,m = state_dim(model), control_dim(model);"
   ]
  },
  {
   "cell_type": "code",
   "execution_count": null,
   "metadata": {},
   "outputs": [],
   "source": []
  },
  {
   "cell_type": "code",
   "execution_count": null,
   "metadata": {},
   "outputs": [],
   "source": []
  },
  {
   "cell_type": "code",
   "execution_count": null,
   "metadata": {},
   "outputs": [],
   "source": []
  }
 ],
 "metadata": {
  "@webio": {
   "lastCommId": "de62cde1deaf424f8e02d98e3a45aefd",
   "lastKernelId": "85894ffa-5bfd-4d91-8efb-a80db5020ed6"
  },
  "kernelspec": {
   "display_name": "Julia 1.6.5",
   "language": "julia",
   "name": "julia-1.6"
  },
  "language_info": {
   "file_extension": ".jl",
   "mimetype": "application/julia",
   "name": "julia",
   "version": "1.6.5"
  }
 },
 "nbformat": 4,
 "nbformat_minor": 4
}

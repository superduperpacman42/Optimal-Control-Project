{
 "cells": [
  {
   "cell_type": "code",
   "execution_count": 182,
   "metadata": {
    "scrolled": true
   },
   "outputs": [
    {
     "name": "stderr",
     "output_type": "stream",
     "text": [
      "\u001b[32m\u001b[1m  Activating\u001b[22m\u001b[39m environment at `C:\\Users\\pnadan\\Documents\\GitHub\\Optimal-Control-Project\\Project.toml`\n",
      "\u001b[32m\u001b[1mPrecompiling\u001b[22m\u001b[39m project...\n",
      "\u001b[33m  ✓ \u001b[39m\u001b[90mOpenSSL_jll\u001b[39m\n",
      "\u001b[33m  ✓ \u001b[39m\u001b[90mChainRulesCore\u001b[39m\n",
      "\u001b[33m  ✓ \u001b[39m\u001b[90mArrayInterface\u001b[39m\n",
      "\u001b[33m  ✓ \u001b[39m\u001b[90mStructArrays\u001b[39m\n",
      "\u001b[33m  ✓ \u001b[39m\u001b[90mWebIO\u001b[39m\n",
      "\u001b[33m  ✓ \u001b[39m\u001b[90mFFMPEG_jll\u001b[39m\n",
      "\u001b[33m  ✓ \u001b[39m\u001b[90mChangesOfVariables\u001b[39m\n",
      "\u001b[33m  ✓ \u001b[39m\u001b[90mFiniteDiff\u001b[39m\n",
      "\u001b[33m  ✓ \u001b[39m\u001b[90mInterpolations\u001b[39m\n",
      "\u001b[33m  ✓ \u001b[39m\u001b[90mFFMPEG\u001b[39m\n",
      "\u001b[33m  ✓ \u001b[39m\u001b[90mJSExpr\u001b[39m\n",
      "\u001b[32m  ✓ \u001b[39mOSQP\n",
      "\u001b[33m  ✓ \u001b[39m\u001b[90mLogExpFunctions\u001b[39m\n",
      "\u001b[32m  ✓ \u001b[39mBlink\n",
      "\u001b[33m  ✓ \u001b[39mGeometryBasics\n",
      "\u001b[33m  ✓ \u001b[39m\u001b[90mSpecialFunctions\u001b[39m\n",
      "\u001b[33m  ✓ \u001b[39m\u001b[90mDiffRules\u001b[39m\n",
      "\u001b[33m  ✓ \u001b[39m\u001b[90mMeshIO\u001b[39m\n",
      "\u001b[33m  ✓ \u001b[39mMeshCat\n",
      "\u001b[33m  ✓ \u001b[39mForwardDiff\n",
      "\u001b[33m  ✓ \u001b[39m\u001b[90mSparseDiffTools\u001b[39m\n",
      "\u001b[33m  ✓ \u001b[39mRobotDynamics\n",
      "\u001b[33m  ✓ \u001b[39m\u001b[90mRobotZoo\u001b[39m\n",
      "\u001b[33m  ✓ \u001b[39m\u001b[90mTrajectoryOptimization\u001b[39m\n",
      "\u001b[32m  ✓ \u001b[39mAltro\n",
      "\u001b[33m  ✓ \u001b[39mTrajOptPlots\n",
      "  26 dependencies successfully precompiled in 49 seconds (136 already precompiled)\n",
      "  \u001b[33m23\u001b[39m dependencies precompiled but different versions are currently loaded. Restart julia to access the new versions\n"
     ]
    },
    {
     "ename": "LoadError",
     "evalue": "LoadError: ArgumentError: Package MeshCatMechanisms not found in current path:\n- Run `import Pkg; Pkg.add(\"MeshCatMechanisms\")` to install the MeshCatMechanisms package.\n\nin expression starting at C:\\Users\\pnadan\\Documents\\GitHub\\Optimal-Control-Project\\src\\quadruped.jl:3",
     "output_type": "error",
     "traceback": [
      "LoadError: ArgumentError: Package MeshCatMechanisms not found in current path:\n- Run `import Pkg; Pkg.add(\"MeshCatMechanisms\")` to install the MeshCatMechanisms package.\n\nin expression starting at C:\\Users\\pnadan\\Documents\\GitHub\\Optimal-Control-Project\\src\\quadruped.jl:3",
      "",
      "Stacktrace:",
      " [1] require(into::Module, mod::Symbol)",
      "   @ Base .\\loading.jl:893",
      " [2] include(fname::String)",
      "   @ Base.MainInclude .\\client.jl:444",
      " [3] top-level scope",
      "   @ In[182]:11",
      " [4] eval",
      "   @ .\\boot.jl:360 [inlined]",
      " [5] include_string(mapexpr::typeof(REPL.softscope), mod::Module, code::String, filename::String)",
      "   @ Base .\\loading.jl:1116"
     ]
    }
   ],
   "source": [
    "import Pkg; Pkg.activate(joinpath(@__DIR__,\"..\")); Pkg.instantiate()\n",
    "using LinearAlgebra\n",
    "using ForwardDiff\n",
    "using RobotDynamics\n",
    "using Ipopt\n",
    "using MathOptInterface\n",
    "using TrajOptPlots\n",
    "const MOI = MathOptInterface\n",
    "using Random\n",
    "using Plots\n",
    "include(\"quadruped.jl\")\n",
    "include(\"quadratic_cost.jl\")\n",
    "include(\"moi.jl\")"
   ]
  },
  {
   "cell_type": "markdown",
   "metadata": {},
   "source": [
    "## Load Full Model"
   ]
  },
  {
   "cell_type": "code",
   "execution_count": 185,
   "metadata": {},
   "outputs": [
    {
     "name": "stderr",
     "output_type": "stream",
     "text": [
      "┌ Info: MeshCat server started. You can open the visualizer by visiting the following URL in your browser:\n",
      "│ http://127.0.0.1:8708\n",
      "└ @ MeshCat C:\\Users\\pnadan\\.julia\\packages\\MeshCat\\Ax8pH\\src\\visualizer.jl:73\n"
     ]
    }
   ],
   "source": [
    "full_model = UnitreeA1()\n",
    "n,m = state_dim(full_model), control_dim(full_model)\n",
    "mvis = initialize_visualizer(full_model);"
   ]
  },
  {
   "cell_type": "markdown",
   "metadata": {},
   "source": [
    "## Load Simplified Model"
   ]
  },
  {
   "cell_type": "code",
   "execution_count": 171,
   "metadata": {},
   "outputs": [],
   "source": [
    "include(\"simple_quadruped.jl\")\n",
    "\n",
    "mf = RigidBodyDynamics.spatial_inertia(findbody(full_model.mech, \"RR_foot\")).mass\n",
    "mb = RigidBodyDynamics.spatial_inertia(findbody(full_model.mech, \"trunk\")).mass + \n",
    "     RigidBodyDynamics.spatial_inertia(findbody(full_model.mech, \"RR_hip\")).mass*4 +\n",
    "     RigidBodyDynamics.spatial_inertia(findbody(full_model.mech, \"RR_thigh\")).mass*4 +\n",
    "     RigidBodyDynamics.spatial_inertia(findbody(full_model.mech, \"RR_calf\")).mass*4\n",
    "J = RigidBodyDynamics.spatial_inertia(findbody(full_model.mech, \"trunk\")).moment\n",
    "state = MechanismState(full_model.mech)\n",
    "zero!(state)\n",
    "leg = translation(relative_transform(state, \n",
    "      default_frame(findbody(full_model.mech, \"RR_hip\")),\n",
    "      default_frame(findbody(full_model.mech, \"RR_foot\"))))\n",
    "s1 = translation(relative_transform(state, \n",
    "     default_frame(findbody(full_model.mech, \"trunk\")),\n",
    "     default_frame(findbody(full_model.mech, \"RR_hip\"))))\n",
    "s1 = vcat(-s1[2], s1[1], s1[3])\n",
    "s2 = s1.*[1,-1,1]\n",
    "s3 = s1.*[-1,1,1]\n",
    "s4 = s1.*[-1,-1,1]\n",
    "\n",
    "model = SimpleQuadruped(mf=mf, mb=mb, Jx=J[1,1], Jy=J[2,2], Jz=J[3,3], ℓmax=leg[3], s1=s1, s2=s2, s3=s3, s4=s4)\n",
    "n,m = state_dim(model), control_dim(model);"
   ]
  },
  {
   "cell_type": "markdown",
   "metadata": {},
   "source": [
    "## Reference Trajectory & Contact Sequence"
   ]
  },
  {
   "cell_type": "code",
   "execution_count": 184,
   "metadata": {},
   "outputs": [
    {
     "data": {
      "text/plain": [
       "contact_sequence_trot (generic function with 1 method)"
      ]
     },
     "execution_count": 184,
     "metadata": {},
     "output_type": "execute_result"
    }
   ],
   "source": [
    "include(\"ref_trajectory.jl\")\n",
    "include(\"gait.jl\")\n",
    "\n",
    "# Discretization\n",
    "tf = 4.4\n",
    "dt = 0.1\n",
    "N = Int(ceil(tf/dt)) + 1\n",
    "times = range(0,tf, length=N);\n",
    "\n",
    "# Reference Trajectory\n",
    "Xref,Uref = reference_trajectory(model, times)\n",
    "\n",
    "# Contact Sequence\n",
    "contact_sched = contact_sequence_trot(times)"
   ]
  },
  {
   "cell_type": "markdown",
   "metadata": {},
   "source": [
    "## Non-Linear Program for IPOPT"
   ]
  },
  {
   "cell_type": "code",
   "execution_count": 180,
   "metadata": {},
   "outputs": [
    {
     "ename": "LoadError",
     "evalue": "LoadError: UndefVarError: QuadraticCost not defined\nin expression starting at C:\\Users\\pnadan\\Documents\\GitHub\\Optimal-Control-Project\\src\\nlp.jl:1",
     "output_type": "error",
     "traceback": [
      "LoadError: UndefVarError: QuadraticCost not defined\nin expression starting at C:\\Users\\pnadan\\Documents\\GitHub\\Optimal-Control-Project\\src\\nlp.jl:1",
      "",
      "Stacktrace:",
      " [1] top-level scope",
      "   @ C:\\Users\\pnadan\\Documents\\GitHub\\Optimal-Control-Project\\src\\nlp.jl:1",
      " [2] include(fname::String)",
      "   @ Base.MainInclude .\\client.jl:444",
      " [3] top-level scope",
      "   @ In[180]:1",
      " [4] eval",
      "   @ .\\boot.jl:360 [inlined]",
      " [5] include_string(mapexpr::typeof(REPL.softscope), mod::Module, code::String, filename::String)",
      "   @ Base .\\loading.jl:1116"
     ]
    }
   ],
   "source": [
    "include(\"nlp.jl\")\n",
    "include(\"nlp_cost.jl\")\n",
    "include(\"nlp_constraint.jl\")"
   ]
  },
  {
   "cell_type": "code",
   "execution_count": null,
   "metadata": {},
   "outputs": [],
   "source": []
  }
 ],
 "metadata": {
  "@webio": {
   "lastCommId": "de62cde1deaf424f8e02d98e3a45aefd",
   "lastKernelId": "85894ffa-5bfd-4d91-8efb-a80db5020ed6"
  },
  "kernelspec": {
   "display_name": "Julia 1.6.5",
   "language": "julia",
   "name": "julia-1.6"
  },
  "language_info": {
   "file_extension": ".jl",
   "mimetype": "application/julia",
   "name": "julia",
   "version": "1.6.5"
  }
 },
 "nbformat": 4,
 "nbformat_minor": 4
}
